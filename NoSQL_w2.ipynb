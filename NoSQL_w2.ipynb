{
 "cells": [
  {
   "cell_type": "code",
   "execution_count": null,
   "metadata": {
    "colab": {
     "base_uri": "https://localhost:8080/"
    },
    "id": "z-hrfHC_8rOL",
    "outputId": "e5a90f21-56d0-45cd-e12e-647e2ddb5a3c"
   },
   "outputs": [
    {
     "name": "stdout",
     "output_type": "stream",
     "text": [
      "Collecting dnspython\n",
      "\u001b[?25l  Downloading https://files.pythonhosted.org/packages/f5/2d/ae9e172b4e5e72fa4b3cfc2517f38b602cc9ba31355f9669c502b4e9c458/dnspython-2.1.0-py3-none-any.whl (241kB)\n",
      "\r",
      "\u001b[K     |█▍                              | 10kB 19.2MB/s eta 0:00:01\r",
      "\u001b[K     |██▊                             | 20kB 10.3MB/s eta 0:00:01\r",
      "\u001b[K     |████                            | 30kB 7.9MB/s eta 0:00:01\r",
      "\u001b[K     |█████▍                          | 40kB 6.9MB/s eta 0:00:01\r",
      "\u001b[K     |██████▊                         | 51kB 4.3MB/s eta 0:00:01\r",
      "\u001b[K     |████████▏                       | 61kB 4.7MB/s eta 0:00:01\r",
      "\u001b[K     |█████████▌                      | 71kB 5.1MB/s eta 0:00:01\r",
      "\u001b[K     |██████████▉                     | 81kB 5.1MB/s eta 0:00:01\r",
      "\u001b[K     |████████████▏                   | 92kB 5.0MB/s eta 0:00:01\r",
      "\u001b[K     |█████████████▌                  | 102kB 5.2MB/s eta 0:00:01\r",
      "\u001b[K     |███████████████                 | 112kB 5.2MB/s eta 0:00:01\r",
      "\u001b[K     |████████████████▎               | 122kB 5.2MB/s eta 0:00:01\r",
      "\u001b[K     |█████████████████▋              | 133kB 5.2MB/s eta 0:00:01\r",
      "\u001b[K     |███████████████████             | 143kB 5.2MB/s eta 0:00:01\r",
      "\u001b[K     |████████████████████▎           | 153kB 5.2MB/s eta 0:00:01\r",
      "\u001b[K     |█████████████████████▋          | 163kB 5.2MB/s eta 0:00:01\r",
      "\u001b[K     |███████████████████████         | 174kB 5.2MB/s eta 0:00:01\r",
      "\u001b[K     |████████████████████████▍       | 184kB 5.2MB/s eta 0:00:01\r",
      "\u001b[K     |█████████████████████████▊      | 194kB 5.2MB/s eta 0:00:01\r",
      "\u001b[K     |███████████████████████████     | 204kB 5.2MB/s eta 0:00:01\r",
      "\u001b[K     |████████████████████████████▍   | 215kB 5.2MB/s eta 0:00:01\r",
      "\u001b[K     |█████████████████████████████▉  | 225kB 5.2MB/s eta 0:00:01\r",
      "\u001b[K     |███████████████████████████████▏| 235kB 5.2MB/s eta 0:00:01\r",
      "\u001b[K     |████████████████████████████████| 245kB 5.2MB/s \n",
      "\u001b[?25hInstalling collected packages: dnspython\n",
      "Successfully installed dnspython-2.1.0\n"
     ]
    }
   ],
   "source": [
    "! pip install dnspython"
   ]
  },
  {
   "cell_type": "code",
   "execution_count": null,
   "metadata": {
    "id": "NoFduFRvuYd3"
   },
   "outputs": [],
   "source": [
    "import pymongo\n",
    "from pymongo import MongoClient\n",
    "# Connecting to your client MongoDB\n",
    "\n",
    "\n",
    "#airbnb is the collection\n",
    "airbnb=client['sample_airbnb']['listingsAndReviews']\n",
    "geospatial=client['sample_geospatial']['shipwrecks']\n",
    "movies=client['sample_mflix']['movies']\n",
    "supplies=client['sample_supplies']['sales']\n",
    "training=client['sample_training']\n",
    "weather=client['sample_weatherdata']['data']\n",
    "grades = training['grades'] \n",
    "\n",
    "# OTHER NOTES --- \n",
    "# list dbs\n",
    "# list_databases()\n",
    "\n",
    "# list collections\n",
    "# list_collection_names()\n",
    "\n",
    "# SORT --> SKIP --> LIMIT\n",
    "# collection.distinct('address.country')"
   ]
  },
  {
   "cell_type": "code",
   "execution_count": null,
   "metadata": {
    "colab": {
     "base_uri": "https://localhost:8080/"
    },
    "id": "JfAJtXhj8twa",
    "outputId": "fbeb687a-1cdd-43e8-88da-f92e4e2d9dbf"
   },
   "outputs": [
    {
     "data": {
      "text/plain": [
       "[{'bedrooms': 10, 'name': 'Great Complex of the Cellars'},\n",
       " {'bedrooms': 10, 'name': 'Excellent Location and price !'}]"
      ]
     },
     "execution_count": 2,
     "metadata": {
      "tags": []
     },
     "output_type": "execute_result"
    }
   ],
   "source": [
    "list(airbnb.find({'bedrooms': 10}, {\"_id\":0, \"name\":1, \"bedrooms\":1}))"
   ]
  },
  {
   "cell_type": "markdown",
   "metadata": {
    "id": "HlnSXd-yT4tE"
   },
   "source": [
    "### All Query Operators discussed below can be found here:\n",
    "https://docs.mongodb.com/manual/reference/operator/query/"
   ]
  },
  {
   "cell_type": "markdown",
   "metadata": {
    "id": "5npFkr6PT4tE"
   },
   "source": [
    "## Question 1  \n",
    "\n",
    "Find the number of listings in the Airbnb collection with \"accommodates\" value of 5 i.e. that accomodates 5 people. "
   ]
  },
  {
   "cell_type": "code",
   "execution_count": null,
   "metadata": {
    "colab": {
     "base_uri": "https://localhost:8080/"
    },
    "id": "Phhlk0glBSmx",
    "outputId": "47db4ece-e632-473a-dbe7-4c339fd5040a"
   },
   "outputs": [
    {
     "data": {
      "text/plain": [
       "264"
      ]
     },
     "execution_count": 10,
     "metadata": {
      "tags": []
     },
     "output_type": "execute_result"
    }
   ],
   "source": [
    "# The curly braces are for the filter arg \n",
    "airbnb.count_documents({\"accommodates\":5})"
   ]
  },
  {
   "cell_type": "code",
   "execution_count": null,
   "metadata": {
    "colab": {
     "base_uri": "https://localhost:8080/"
    },
    "id": "t_KqmnxwDSPQ",
    "outputId": "8fcb7ddc-8c17-4825-857d-82ab3f4ca6b0"
   },
   "outputs": [
    {
     "name": "stderr",
     "output_type": "stream",
     "text": [
      "/usr/local/lib/python3.6/dist-packages/ipykernel_launcher.py:2: DeprecationWarning: count is deprecated. Use Collection.count_documents instead.\n",
      "  \n"
     ]
    },
    {
     "data": {
      "text/plain": [
       "264"
      ]
     },
     "execution_count": 11,
     "metadata": {
      "tags": []
     },
     "output_type": "execute_result"
    }
   ],
   "source": [
    "# Most read operations begin with the collection.find\n",
    "airbnb.find({\"accommodates\":5}).count()"
   ]
  },
  {
   "cell_type": "markdown",
   "metadata": {
    "id": "NXRxRrZvT4tH"
   },
   "source": [
    "## Question 2 \n",
    "\n",
    "Find the number of documents in the Airbnb collection that have a \"TV\" as a value in the \"amenities\" array."
   ]
  },
  {
   "cell_type": "code",
   "execution_count": null,
   "metadata": {
    "colab": {
     "base_uri": "https://localhost:8080/"
    },
    "id": "_MwmTLRfEl4w",
    "outputId": "3dc2bd6d-3b34-4430-a57f-a6d55e95b31d"
   },
   "outputs": [
    {
     "data": {
      "text/plain": [
       "4280"
      ]
     },
     "execution_count": 14,
     "metadata": {
      "tags": []
     },
     "output_type": "execute_result"
    }
   ],
   "source": [
    "# Fields are case sensitive, so watch out when you're accessing them\n",
    "airbnb.count_documents({\"amenities\":\"TV\"})\n",
    "\n",
    "#If you did airbnb.count_documents({\"amenities\":[\"TV\"]}), then it's asking for \"do you find an array inside amenities and inside that array do you find TV\""
   ]
  },
  {
   "cell_type": "markdown",
   "metadata": {
    "id": "11FHZDhGT4tI"
   },
   "source": [
    "## Question 3\n",
    "\n",
    "Find all the listings with 10 bedrooms, sorted by name descending and ONLY return the name, bedrooms, amenities, and address field. Limit to 1 result.\n",
    "\n",
    "SQL code will look like:\n",
    "\n",
    "\n",
    "\n",
    "```\n",
    "SELECT name, bedrooms, amenities, address field\n",
    "FROM airbnb\n",
    "WHERE bedrooms=10\n",
    "ORDER BY 1 DESC\n",
    "LIMIT 1\n",
    "```\n",
    "\n"
   ]
  },
  {
   "cell_type": "code",
   "execution_count": null,
   "metadata": {
    "colab": {
     "base_uri": "https://localhost:8080/"
    },
    "id": "sxH7J6lJFAVc",
    "outputId": "cf1f97a7-088e-49f2-d655-50fbecaeeff4"
   },
   "outputs": [
    {
     "data": {
      "text/plain": [
       "[{'address': {'country': 'Portugal',\n",
       "   'country_code': 'PT',\n",
       "   'government_area': 'Santa Marinha e São Pedro da Afurada',\n",
       "   'location': {'coordinates': [-8.62181, 41.13354],\n",
       "    'is_location_exact': False,\n",
       "    'type': 'Point'},\n",
       "   'market': 'Porto',\n",
       "   'street': 'Vila Nova de Gaia, Porto, Portugal',\n",
       "   'suburb': ''},\n",
       "  'amenities': ['TV',\n",
       "   'Cable TV',\n",
       "   'Wifi',\n",
       "   'Kitchen',\n",
       "   'Free street parking',\n",
       "   'Heating',\n",
       "   'Family/kid friendly',\n",
       "   'Washer',\n",
       "   'Dryer',\n",
       "   'First aid kit',\n",
       "   'Fire extinguisher',\n",
       "   'Essentials',\n",
       "   'Shampoo',\n",
       "   'Lock on bedroom door',\n",
       "   'Hangers',\n",
       "   'Hair dryer',\n",
       "   'Iron',\n",
       "   'Laptop friendly workspace',\n",
       "   'Private entrance',\n",
       "   'Baby monitor',\n",
       "   'Bathtub',\n",
       "   'Baby bath',\n",
       "   'High chair',\n",
       "   'Crib',\n",
       "   'Pack ’n Play/travel crib',\n",
       "   'Hot water',\n",
       "   'Bed linens',\n",
       "   'Extra pillows and blankets',\n",
       "   'Microwave',\n",
       "   'Coffee maker',\n",
       "   'Refrigerator',\n",
       "   'Dishes and silverware',\n",
       "   'Cooking basics',\n",
       "   'Oven',\n",
       "   'Stove',\n",
       "   'BBQ grill',\n",
       "   'Patio or balcony',\n",
       "   'Luggage dropoff allowed',\n",
       "   'Long term stays allowed',\n",
       "   'Host greets you',\n",
       "   'Waterfront'],\n",
       "  'bedrooms': 10,\n",
       "  'name': 'Great Complex of the Cellars'}]"
      ]
     },
     "execution_count": 23,
     "metadata": {
      "tags": []
     },
     "output_type": "execute_result"
    }
   ],
   "source": [
    "list(\n",
    "    airbnb\n",
    "     .find({\"bedrooms\":10}, {\"name\":1,\"bedrooms\":1,\"amenities\":1, \"address\":1,\"_id\":0 })\n",
    "     .sort(\"name\",-1)\n",
    "     .limit(1)    \n",
    ")\n",
    "# One curly braces for filter, another for projection/what you're returning\n",
    "#\"_id\" is the primary key. It will always return the primary key\n",
    "# Projection is on a binary scale - so 1 tells the server to project the field in the result, 0 tells it not to project the field on the output\n",
    "# Sort's -1 implies descending order, 1 for ascending"
   ]
  },
  {
   "cell_type": "code",
   "execution_count": null,
   "metadata": {
    "colab": {
     "base_uri": "https://localhost:8080/"
    },
    "id": "QAe2cFBgK9RC",
    "outputId": "5aec73ab-9f7e-4d5d-d874-394a170a7c6f"
   },
   "outputs": [
    {
     "data": {
      "text/plain": [
       "<pymongo.cursor.Cursor at 0x7fb3c50677b8>"
      ]
     },
     "execution_count": 22,
     "metadata": {
      "tags": []
     },
     "output_type": "execute_result"
    }
   ],
   "source": [
    "airbnb.find({\"bedrooms\":10}, {\"name\":1,\"bedrooms\":1,\"amenities\":1, \"address\":1,\"_id\":0 }).sort(\"name\",-1).limit(1)  \n",
    "\n",
    "# To avoid the below result - always use a LIST! "
   ]
  },
  {
   "cell_type": "markdown",
   "metadata": {
    "id": "lRknkqcHT4tI"
   },
   "source": [
    "\n",
    "## Question 4\n",
    "\n",
    "SELECT name, number_of_reviews  <br>\n",
    "FROM airbnb <br>\n",
    "ORDER BY number_of_reviews desc <br>\n",
    "LIMIT 1"
   ]
  },
  {
   "cell_type": "code",
   "execution_count": null,
   "metadata": {
    "colab": {
     "base_uri": "https://localhost:8080/"
    },
    "id": "VO9rkYDDI-Re",
    "outputId": "52361e65-2d78-4af4-ac31-58c5074cf245"
   },
   "outputs": [
    {
     "data": {
      "text/plain": [
       "[{'name': '#Private Studio - Waikiki Dream', 'number_of_reviews': 533}]"
      ]
     },
     "execution_count": 25,
     "metadata": {
      "tags": []
     },
     "output_type": "execute_result"
    }
   ],
   "source": [
    "list(\n",
    "    airbnb.find({},{\"name\":1,\"number_of_reviews\":1,\"_id\":0})\n",
    "    .sort(\"number_of_reviews\",-1)\n",
    "    .limit(1)\n",
    ")\n",
    "# You still need the empty {} for the filter criteria"
   ]
  },
  {
   "cell_type": "markdown",
   "metadata": {
    "id": "NDWPkDG8T4tJ"
   },
   "source": [
    "# Comparison Operators\n",
    "\n",
    "~~~\n",
    "$eq: Matches values that are equal to a specified value.\n",
    "$gt: Matches values that are greater than a specified value.\n",
    "$gte: Matches values that are greater than or equal to a specified value.\n",
    "$in: Matches any of the values specified in an array.\n",
    "$lt: Matches values that are less than a specified value.\n",
    "$lte: Matches values that are less than or equal to a specified value.\n",
    "$ne: Matches all values that are not equal to a specified value.\n",
    "$nin: Matches none of the values specified in an array.\n",
    "~~~\n",
    "\n",
    "See https://docs.mongodb.com/manual/reference/operator/query-comparison/ for more info."
   ]
  },
  {
   "cell_type": "markdown",
   "metadata": {
    "id": "J1VsSSEiT4tJ"
   },
   "source": [
    "## Question 5 \n",
    "\n",
    "Return the document where \"accommodates\" is greater than 6, and ordered by \"number_of_reviews\" descending, limit to 1 result. Only return \"name\", \"accommodates\", \"number_of_reviews\", and the \"address\"."
   ]
  },
  {
   "cell_type": "code",
   "execution_count": null,
   "metadata": {
    "colab": {
     "base_uri": "https://localhost:8080/"
    },
    "id": "anbG7ggANiAN",
    "outputId": "cdc2cfe3-8f93-42c4-ce95-92cf70927de3"
   },
   "outputs": [
    {
     "data": {
      "text/plain": [
       "[{'accommodates': 11,\n",
       "  'address': {'country': 'Spain',\n",
       "   'country_code': 'ES',\n",
       "   'government_area': 'el Putxet i el Farró',\n",
       "   'location': {'coordinates': [2.1465, 41.40914],\n",
       "    'is_location_exact': False,\n",
       "    'type': 'Point'},\n",
       "   'market': 'Barcelona',\n",
       "   'street': 'Barcelona, Catalonia, Spain',\n",
       "   'suburb': 'Sarrià-Sant Gervasi'},\n",
       "  'name': 'Spectacular Modern Uptown Duplex',\n",
       "  'number_of_reviews': 273}]"
      ]
     },
     "execution_count": 27,
     "metadata": {
      "tags": []
     },
     "output_type": "execute_result"
    }
   ],
   "source": [
    "list(\n",
    "    airbnb\n",
    "     .find(\n",
    "         {\"accommodates\":{\"$gt\":6}}, # The inner curly braces tells Mongo that there's a logical operation and it's not a simple retrieve\n",
    "         {\"name\":1, \"accommodates\":1, \"number_of_reviews\":1, \"address\":1,\"_id\":0}\n",
    "     )\n",
    "     .sort(\"number_of_reviews\",-1)\n",
    "     .limit(1) \n",
    "\n",
    ")"
   ]
  },
  {
   "cell_type": "markdown",
   "metadata": {
    "id": "cf9NPzJHT4tK"
   },
   "source": [
    "## Question 6 - $nin\n",
    "\n",
    "Return the document where the \"accommodates\" is greater than 3 and less than 6, and \"amenities\" value where that does not contain a \"TV\" nor \"Internet\" and \"number_of_reviews\" greater than or equal to 22. Only return the name, accommodates, amenities and number_of_reviews fields and sort by the number_of_reviews field descending. Limit to 1 result.  "
   ]
  },
  {
   "cell_type": "code",
   "execution_count": null,
   "metadata": {
    "colab": {
     "base_uri": "https://localhost:8080/"
    },
    "id": "8QYJ78_LOQ5b",
    "outputId": "6c28828e-850e-48db-fdf4-2e18560b2eea"
   },
   "outputs": [
    {
     "data": {
      "text/plain": [
       "[{'accommodates': 5,\n",
       "  'amenities': ['Wifi',\n",
       "   'Kitchen',\n",
       "   'Free parking on premises',\n",
       "   'Buzzer/wireless intercom',\n",
       "   'Family/kid friendly',\n",
       "   'Washer',\n",
       "   'First aid kit',\n",
       "   'Fire extinguisher',\n",
       "   'Essentials',\n",
       "   'Shampoo',\n",
       "   '24-hour check-in',\n",
       "   'Hangers',\n",
       "   'Hair dryer',\n",
       "   'Iron',\n",
       "   'Laptop friendly workspace',\n",
       "   'translation missing: en.hosting_amenity_50',\n",
       "   'High chair',\n",
       "   'Hot water',\n",
       "   'Bed linens',\n",
       "   'Ethernet connection',\n",
       "   'Microwave',\n",
       "   'Coffee maker',\n",
       "   'Refrigerator',\n",
       "   'Dishes and silverware',\n",
       "   'Cooking basics',\n",
       "   'Oven',\n",
       "   'Stove',\n",
       "   'Patio or balcony',\n",
       "   'Luggage dropoff allowed',\n",
       "   'Long term stays allowed',\n",
       "   'Cleaning before checkout',\n",
       "   'Wide hallway clearance',\n",
       "   'Wide doorway',\n",
       "   'Flat path to front door',\n",
       "   'Well-lit path to entrance',\n",
       "   'Step-free access',\n",
       "   'Accessible-height bed',\n",
       "   'Step-free access',\n",
       "   'Accessible-height toilet',\n",
       "   'Host greets you'],\n",
       "  'name': 'Lovely apartment with private parking',\n",
       "  'number_of_reviews': 204}]"
      ]
     },
     "execution_count": 2,
     "metadata": {
      "tags": []
     },
     "output_type": "execute_result"
    }
   ],
   "source": [
    "list(\n",
    "    airbnb\n",
    "     .find(\n",
    "       {\"accommodates\":{\"$gt\":3,\"$lt\":6},\n",
    "        \"amenities\":{\"$nin\":[\"TV\",\"Internet\"]},\n",
    "        \"number_of_reviews\": {\"$gte\":22}\n",
    "        },\n",
    "       { \"name\":1, \"accommodates\":1, \"amenities\":1, \"number_of_reviews\":1,\"_id\":0 })\n",
    "     .sort(\"number_of_reviews\",-1).limit(1)\n",
    ")"
   ]
  },
  {
   "cell_type": "markdown",
   "metadata": {
    "id": "a8k-xrMoT4tL"
   },
   "source": [
    "## Question 7 - Special Case $nin\n",
    "\n",
    "Return the count of documents that do not have any of the following cast members: \"Gèrard Depardieu\", \"Robert De Niro\", \"Morgan Freeman\", \"Samuel L. Jackson\",\"Nicolas Cage\", nor \"Bruce Willis\". \n"
   ]
  },
  {
   "cell_type": "code",
   "execution_count": null,
   "metadata": {
    "colab": {
     "base_uri": "https://localhost:8080/"
    },
    "id": "qBk_afTaQhoi",
    "outputId": "9921eb1f-d7ab-4b3c-9a83-ba3ea6b50f5a"
   },
   "outputs": [
    {
     "data": {
      "text/plain": [
       "23217"
      ]
     },
     "execution_count": 41,
     "metadata": {
      "tags": []
     },
     "output_type": "execute_result"
    }
   ],
   "source": [
    "#movies[\"movies\"] and the field is \"cast\"\n",
    "\n",
    "\n",
    "movies.movies.count_documents({\n",
    "\"cast\":{\"$nin\" : [\"Gèrard Depardieu\", \"Robert De Niro\", \"Morgan Freeman\", \"Samuel L. Jackson\",\"Nicolas Cage\", \"Bruce Willis\"]}\n",
    "        })\n"
   ]
  },
  {
   "cell_type": "code",
   "execution_count": null,
   "metadata": {
    "colab": {
     "base_uri": "https://localhost:8080/"
    },
    "id": "uqIA39tASXAZ",
    "outputId": "16caa36d-7e6d-409c-b667-b8f0c409105d"
   },
   "outputs": [
    {
     "name": "stdout",
     "output_type": "stream",
     "text": [
      "original: 23217, cast exists: 22827, cast doesnt exist: 390\n"
     ]
    }
   ],
   "source": [
    "\n",
    "original = movies.movies.count_documents({\n",
    "\"cast\":{\"$nin\" : [\"Gèrard Depardieu\", \"Robert De Niro\", \"Morgan Freeman\", \"Samuel L. Jackson\",\"Nicolas Cage\", \"Bruce Willis\"]}\n",
    "        })\n",
    "castExists=movies.movies.count_documents({\n",
    "\"cast\":{\"$nin\" : [\"Gèrard Depardieu\", \"Robert De Niro\", \"Morgan Freeman\", \"Samuel L. Jackson\",\"Nicolas Cage\", \"Bruce Willis\"],\n",
    "        \"$exists\":True}\n",
    "        })\n",
    "noCast=movies.movies.count_documents({\n",
    "\"cast\":{\"$exists\":False}}\n",
    "        )\n",
    "print(f'original: {original}, cast exists: {castExists}, cast doesnt exist: {noCast}')"
   ]
  },
  {
   "cell_type": "code",
   "execution_count": null,
   "metadata": {
    "id": "bkLOPJG5Sewf"
   },
   "outputs": [],
   "source": []
  },
  {
   "cell_type": "markdown",
   "metadata": {
    "id": "1PSXp3aiT4tM"
   },
   "source": [
    "## Question 8\n",
    "\n",
    "Write the following in MongoDB:\n",
    "    \n",
    "SELECT name, number_of_reviews, beds <br>\n",
    "FROM airbnb <br>\n",
    "WHERE number_of_reviews >= 200 <br>\n",
    "ORDER BY beds DESC <br>\n",
    "LIMIT 1"
   ]
  },
  {
   "cell_type": "code",
   "execution_count": null,
   "metadata": {
    "colab": {
     "base_uri": "https://localhost:8080/"
    },
    "id": "PhuKDHRkDzJZ",
    "outputId": "60c2e2a0-5e4d-4875-aabc-9a74bbad2728"
   },
   "outputs": [
    {
     "data": {
      "text/plain": [
       "[{'beds': 7,\n",
       "  'name': 'Beautiful Home Away From Home!',\n",
       "  'number_of_reviews': 219}]"
      ]
     },
     "execution_count": 3,
     "metadata": {
      "tags": []
     },
     "output_type": "execute_result"
    }
   ],
   "source": [
    "list(\n",
    "    airbnb.find({\"number_of_reviews\":{\"$gte\":200}},\n",
    "                {\"name\":1,\"number_of_reviews\":1,\"beds\":1,\"_id\":0}\n",
    "                ).sort(\"beds\",-1).limit(1)\n",
    ")"
   ]
  },
  {
   "cell_type": "markdown",
   "metadata": {
    "id": "bJp2KxMWT4tN"
   },
   "source": [
    "## Question 9 - Special Case $ne\n",
    "\n",
    "Return the count of all documents where the \"tomatoes.viewer.rating\" value is \"$ne\" to 3."
   ]
  },
  {
   "cell_type": "code",
   "execution_count": null,
   "metadata": {
    "colab": {
     "base_uri": "https://localhost:8080/"
    },
    "id": "1GRz58c6EU0w",
    "outputId": "e9e39622-bce3-4c8d-df84-ab284d56522c"
   },
   "outputs": [
    {
     "data": {
      "text/plain": [
       "22492"
      ]
     },
     "execution_count": 6,
     "metadata": {
      "tags": []
     },
     "output_type": "execute_result"
    }
   ],
   "source": [
    "movies.count_documents({\"tomatoes.viewer.rating\":{\"$ne\":3}})"
   ]
  },
  {
   "cell_type": "code",
   "execution_count": null,
   "metadata": {
    "colab": {
     "base_uri": "https://localhost:8080/"
    },
    "id": "Uf7dD0ioHavy",
    "outputId": "a96915e9-68b9-47e4-e865-20b222f61e40"
   },
   "outputs": [
    {
     "data": {
      "text/plain": [
       "19518"
      ]
     },
     "execution_count": 7,
     "metadata": {
      "tags": []
     },
     "output_type": "execute_result"
    }
   ],
   "source": [
    "movies.count_documents({\"tomatoes.viewer.rating\":{\"$ne\":3,\"$exists\":True}})"
   ]
  },
  {
   "cell_type": "markdown",
   "metadata": {
    "id": "6ytNYB2OT4tO"
   },
   "source": [
    "## Question 10 - $in\n",
    "\n",
    "Return the count of all the documents that have the \"property_type\" value of \"Bungalow\" and \"amenities\" that have the following items: \"TV\", \"Wifi\",\"Smart TV\", \"Heating\", \"Swimming Pool\", \"Waterfront\",\"Gym\",\"Beachfront\",\"Safe\",\"Refrigerator\", and a \"Tennis Court\".\n"
   ]
  },
  {
   "cell_type": "code",
   "execution_count": null,
   "metadata": {
    "colab": {
     "base_uri": "https://localhost:8080/"
    },
    "id": "WiyIW72-H3b1",
    "outputId": "37c0ce21-dbb0-4dc8-c4b8-945c46608487"
   },
   "outputs": [
    {
     "data": {
      "text/plain": [
       "14"
      ]
     },
     "execution_count": 9,
     "metadata": {
      "tags": []
     },
     "output_type": "execute_result"
    }
   ],
   "source": [
    "airbnb.count_documents({\"property_type\":\"Bungalow\",\n",
    "                        \"amenities\":{\"$in\":[\"TV\", \"Wifi\",\"Smart TV\", \"Heating\", \"Swimming Pool\", \"Waterfront\",\"Gym\",\"Beachfront\",\"Safe\",\"Refrigerator\",\"Tennis Court\"]}})"
   ]
  },
  {
   "cell_type": "markdown",
   "metadata": {
    "id": "6h-5EJ6QT4tT"
   },
   "source": [
    "# Logical Operators\n",
    "\n",
    "~~~\n",
    "$and: Joins query clauses with a logical AND returns all documents that match the conditions of both clauses.\n",
    "$not: Inverts the effect of a query expression and returns documents that do not match the query expression.\n",
    "$nor: Joins query clauses with a logical NOR returns all documents that fail to match both clauses.\n",
    "$or: Joins query clauses with a logical OR returns all documents that match the conditions of either clause.\n",
    "~~~\n",
    "\n",
    "See https://docs.mongodb.com/manual/reference/operator/query-logical/ for more info."
   ]
  },
  {
   "cell_type": "markdown",
   "metadata": {
    "id": "Vs8mRYrwJidi"
   },
   "source": [
    "OR\n",
    "- diff fields\n",
    "- multiples expressions\n",
    "\n",
    "IN\n",
    "- one field, multiple values\n",
    "\n",
    "```\n",
    "\n",
    "```\n",
    "\n"
   ]
  },
  {
   "cell_type": "code",
   "execution_count": null,
   "metadata": {
    "id": "PdbFuoTeIuez"
   },
   "outputs": [],
   "source": [
    "# format: \n",
    "#{$or:[{expression 1}, {expression 2}...]}"
   ]
  },
  {
   "cell_type": "markdown",
   "metadata": {
    "id": "kg3WVo_dT4tT"
   },
   "source": [
    "## Question 11\n",
    "\n",
    "Rewrite the above question (Question 10) using the $or operator. "
   ]
  },
  {
   "cell_type": "code",
   "execution_count": null,
   "metadata": {
    "colab": {
     "base_uri": "https://localhost:8080/"
    },
    "id": "iOHvhnyEIlKG",
    "outputId": "11bc5085-7626-4d95-9e37-33bb0c42d29d"
   },
   "outputs": [
    {
     "data": {
      "text/plain": [
       "14"
      ]
     },
     "execution_count": 11,
     "metadata": {
      "tags": []
     },
     "output_type": "execute_result"
    }
   ],
   "source": [
    "airbnb.count_documents({\"property_type\":\"Bungalow\",\n",
    "                        \"$or\":[\n",
    "                               {\"amenities\":\"TV\"},{\"amenities\": \"Wifi\"},{\"amenities\":\"Smart TV\"},{\"amenities\": \"Heating\"}\n",
    "                               , {\"amenities\":\"Swimming Pool\"}, {\"amenities\":\"Waterfront\"},\\\n",
    "                                {\"amenities\":\"Gym\"},{\"amenities\":\"Beachfront\"},{\"amenities\":\"Safe\"}\n",
    "                               ,{\"amenities\":\"Refrigerator\"},{\"amenities\":\"Tennis Court\"}]})"
   ]
  },
  {
   "cell_type": "markdown",
   "metadata": {
    "id": "oCz5XZmFT4tU"
   },
   "source": [
    "## Question 12\n",
    "\n",
    "Return the count of all documents in the movies database and movies collection (i.e. movies[\"movies\"]) where the document had either a \"rated\" value of \"PG\" or \"PG-13\"."
   ]
  },
  {
   "cell_type": "code",
   "execution_count": null,
   "metadata": {
    "colab": {
     "base_uri": "https://localhost:8080/"
    },
    "id": "wF7UQW8tJvKe",
    "outputId": "a7b3891f-8050-431a-9a42-4fadefdd812a"
   },
   "outputs": [
    {
     "data": {
      "text/plain": [
       "4173"
      ]
     },
     "execution_count": 12,
     "metadata": {
      "tags": []
     },
     "output_type": "execute_result"
    }
   ],
   "source": [
    "movies.count_documents(\n",
    "    {\"rated\":{\"$in\":[\"PG\",\"PG-13\"]}}\n",
    ")"
   ]
  },
  {
   "cell_type": "markdown",
   "metadata": {
    "id": "W-gcnYYNT4tX"
   },
   "source": [
    "## Question 13 - conjunctive\n",
    "\n",
    "Return two movies sorted by year descending where either the \"awards.wins\" value is greater than 250 or \n",
    "the \"year\" is between 2000 and 2005."
   ]
  },
  {
   "cell_type": "code",
   "execution_count": null,
   "metadata": {
    "colab": {
     "base_uri": "https://localhost:8080/"
    },
    "id": "FwmpfcwjJ8hv",
    "outputId": "b1c69d64-f347-47f5-f906-3c49577a41c3"
   },
   "outputs": [
    {
     "data": {
      "text/plain": [
       "[{'awards': {'wins': 267}, 'title': '12 Years a Slave', 'year': 2013},\n",
       " {'awards': {'wins': 1}, 'title': 'Fantastic Four', 'year': 2005}]"
      ]
     },
     "execution_count": 17,
     "metadata": {
      "tags": []
     },
     "output_type": "execute_result"
    }
   ],
   "source": [
    "list(\n",
    "    movies.find({\n",
    "        \"$or\":[\n",
    "        {\"awards.wins\":{\"$gt\":250}},\n",
    "        {\"year\":{\"$gte\":2000,\"$lte\":2005}}]}, # There is an implicit AND here which is not in the next question\n",
    "        {\"title\":1,\"year\":1,\"awards.wins\":1,\"_id\":0}\n",
    "    ).sort(\"year\",-1).limit(2)\n",
    ")\n",
    "\n",
    "# We get 2013 because of our OR clause - either nore than 250 wins or between the year 2000 and 2005. So 12 years a slave still makes it."
   ]
  },
  {
   "cell_type": "code",
   "execution_count": null,
   "metadata": {
    "id": "8XL51kQBMiZj"
   },
   "outputs": [],
   "source": []
  },
  {
   "cell_type": "markdown",
   "metadata": {
    "id": "MEp2X4IDMi8V"
   },
   "source": [
    "Complex Sort:\n",
    "\n",
    "```.sort([(field1, ASC),(field2, DESC),(...),(...)])```"
   ]
  },
  {
   "cell_type": "markdown",
   "metadata": {
    "id": "H-K2enl9T4tY"
   },
   "source": [
    "## Question 14 - disjunctive\n",
    "\n",
    "Return 3 movies sorted by year descending where either the \"awards.wins\" value is greater than 250 or \n",
    "the \"year\" is less than 2005 or greater than 2015."
   ]
  },
  {
   "cell_type": "code",
   "execution_count": null,
   "metadata": {
    "colab": {
     "base_uri": "https://localhost:8080/"
    },
    "id": "HJlza5oqM6-n",
    "outputId": "f8a7d86d-de51-4b7d-d9fa-d132f9732015"
   },
   "outputs": [
    {
     "data": {
      "text/plain": [
       "[{'awards': {'wins': 1}, 'title': 'The Masked Saint', 'year': 2016},\n",
       " {'awards': {'wins': 267}, 'title': '12 Years a Slave', 'year': 2013},\n",
       " {'awards': {'wins': 3}, 'title': '06/05', 'year': 2004}]"
      ]
     },
     "execution_count": 19,
     "metadata": {
      "tags": []
     },
     "output_type": "execute_result"
    }
   ],
   "source": [
    "list(\n",
    "    movies.find({\n",
    "        \"$or\":[\n",
    "        {\"awards.wins\":{\"$gt\":250}},\n",
    "        {\"year\":{\"$gt\":2015}},{\"year\":{\"$lt\":2005}}]},\n",
    "        {\"title\":1,\"year\":1,\"awards.wins\":1,\"_id\":0}\n",
    "    ).sort([(\"year\",-1),(\"title\",1)]).limit(3)\n",
    ")\n"
   ]
  },
  {
   "cell_type": "markdown",
   "metadata": {
    "id": "jyfRuKJBT4tZ"
   },
   "source": [
    "## Question 15 \n",
    "\n",
    "Return a movie that has a \"runtime\" of greater than 90, a year greater than 2000, \n",
    "and an \"imdb.votes\" less than 40."
   ]
  },
  {
   "cell_type": "code",
   "execution_count": null,
   "metadata": {
    "colab": {
     "base_uri": "https://localhost:8080/"
    },
    "id": "isB9vmE1OyS1",
    "outputId": "2117e8d9-04c1-4e19-ba35-99fa3d7ac321"
   },
   "outputs": [
    {
     "data": {
      "text/plain": [
       "[{'_id': ObjectId('573a13a9f29313caabd1e696'),\n",
       "  'awards': {'nominations': 0, 'text': '1 win.', 'wins': 1},\n",
       "  'cast': ['Joe Anderson', 'Rachel Finan', 'Jeff Heilman', 'Liz Hinkley'],\n",
       "  'countries': ['USA'],\n",
       "  'directors': ['Joe Anderson'],\n",
       "  'fullplot': \"One family's paranoid preparation for the year 2000 crisis and beyond. Survivalist Carl Foster has one year to convince his family he's not crazy and independent filmmaker Atis Jamison has 365 days to get it all on tape.\",\n",
       "  'genres': ['Comedy'],\n",
       "  'imdb': {'id': 314325, 'rating': 7.9, 'votes': 10},\n",
       "  'languages': ['English'],\n",
       "  'lastupdated': '2015-09-02 00:23:45.257000000',\n",
       "  'num_mflix_comments': 2,\n",
       "  'plot': \"One family's paranoid preparation for the year 2000 crisis and beyond. Survivalist Carl Foster has one year to convince his family he's not crazy and independent filmmaker Atis Jamison has ...\",\n",
       "  'released': datetime.datetime(2002, 3, 24, 0, 0),\n",
       "  'runtime': 113,\n",
       "  'title': 'Living with the Fosters',\n",
       "  'tomatoes': {'lastUpdated': datetime.datetime(2015, 9, 14, 17, 36, 20),\n",
       "   'viewer': {'numReviews': 30, 'rating': 5.0}},\n",
       "  'type': 'movie',\n",
       "  'writers': ['Joe Anderson'],\n",
       "  'year': 2002}]"
      ]
     },
     "execution_count": 22,
     "metadata": {
      "tags": []
     },
     "output_type": "execute_result"
    }
   ],
   "source": [
    "list(\n",
    "    movies.find(\n",
    "        {\n",
    "            \"$and\":[\n",
    "                    {\"runtime\":{\"$gt\":90}},\n",
    "                    {\"year\":{\"$gt\":2000}},\n",
    "                    {\"imdb.votes\":{\"$lt\":40}}\n",
    "\n",
    "            ]\n",
    "        }\n",
    "    ).sort(\"year\",1)\n",
    "    .limit(1)\n",
    ")"
   ]
  },
  {
   "cell_type": "markdown",
   "metadata": {
    "id": "JdVVr38wT4tZ"
   },
   "source": [
    "## Question 16 - review several ways of $and\n",
    "\n",
    "Return the document's title sorted by \"year\" descending that has a \"runtime\" value greater than 100, \"year\" greater than 2000 and less than 2005, and an \"imdb.votes\" value less than 30. Show 3 different ways of writing this query.  "
   ]
  },
  {
   "cell_type": "code",
   "execution_count": null,
   "metadata": {
    "colab": {
     "base_uri": "https://localhost:8080/"
    },
    "id": "t58VPOnXP7IW",
    "outputId": "b19381c2-785a-4525-bab0-5aa6bf61ad2d"
   },
   "outputs": [
    {
     "data": {
      "text/plain": [
       "[{'title': 'Living with the Fosters'}]"
      ]
     },
     "execution_count": 24,
     "metadata": {
      "tags": []
     },
     "output_type": "execute_result"
    }
   ],
   "source": [
    "list(\n",
    "    movies.find({ \"$and\":[\n",
    "                          {\"runtime\":{\"$gt\":100}},\n",
    "                          {\"year\":{\"$gt\":2000}},\n",
    "                          {\"year\":{\"$lt\":2005}},\n",
    "                          {\"imdb.votes\":{\"$lt\":30}}\n",
    "    ]\n",
    "        \n",
    "    },\n",
    "    {\"title\":1,\"_id\":0}).sort(\"year\",-1).limit(1)\n",
    ")"
   ]
  },
  {
   "cell_type": "code",
   "execution_count": null,
   "metadata": {
    "colab": {
     "base_uri": "https://localhost:8080/"
    },
    "id": "3BOhtr7nRbOa",
    "outputId": "e0aa35b5-6388-4ae2-9b49-59374848c43b"
   },
   "outputs": [
    {
     "data": {
      "text/plain": [
       "[{'title': 'Living with the Fosters'}]"
      ]
     },
     "execution_count": 26,
     "metadata": {
      "tags": []
     },
     "output_type": "execute_result"
    }
   ],
   "source": [
    "list(\n",
    "    movies.find(\n",
    "        {\"runtime\":{\"$gt\":100},\n",
    "         \"year\":{\"$gt\":2000},\n",
    "         \"year\":{\"$lt\":2005},\n",
    "         \"imdb.votes\":{\"$lt\":30}},\n",
    "        {\"title\":1,\"_id\":0}\n",
    "    )\n",
    "    .sort(\"year\",-1).limit(1)\n",
    ")"
   ]
  },
  {
   "cell_type": "code",
   "execution_count": null,
   "metadata": {
    "colab": {
     "base_uri": "https://localhost:8080/"
    },
    "id": "FRIhuZ_MR-RK",
    "outputId": "1361b200-54b0-4bef-8f7f-3ffb28ca9be4"
   },
   "outputs": [
    {
     "data": {
      "text/plain": [
       "[{'title': 'Living with the Fosters'}]"
      ]
     },
     "execution_count": 27,
     "metadata": {
      "tags": []
     },
     "output_type": "execute_result"
    }
   ],
   "source": [
    "list(\n",
    "    movies.find(\n",
    "        {\"runtime\":{\"$gt\":100},\n",
    "         \"year\":{\"$gt\":2000,\"$lt\":2005},\n",
    "         \"imdb.votes\":{\"$lt\":30}},\n",
    "        {\"title\":1,\"_id\":0}\n",
    "    )\n",
    "    .sort(\"year\",-1).limit(1)\n",
    ")"
   ]
  },
  {
   "cell_type": "markdown",
   "metadata": {
    "id": "-s7LovDwT4ta"
   },
   "source": [
    "## Question 17 - implicit vs explicit $and\n",
    "\n",
    "\n",
    "Return a document that has a \"type\" of movie, and where the \"year\" value is less than 1930 or rated a \"PG\", and the \"imdb.votes\" is greater than 100 or the runtime is greater than 120."
   ]
  },
  {
   "cell_type": "code",
   "execution_count": null,
   "metadata": {
    "colab": {
     "base_uri": "https://localhost:8080/"
    },
    "id": "xiJ7Rn3wTg_Z",
    "outputId": "07a0116c-2727-45e3-b11d-9dcfd751a47b"
   },
   "outputs": [
    {
     "data": {
      "text/plain": [
       "[{'_id': ObjectId('573a13a3f29313caabd0d5a4'),\n",
       "  'awards': {'nominations': 0, 'text': '1 win.', 'wins': 1},\n",
       "  'countries': ['USA'],\n",
       "  'directors': ['William K.L. Dickson'],\n",
       "  'fullplot': 'A young man stands before the camera holding a club in each hand, horizontal to the ground. He raises the heads of the two clubs in unison, by rotating the clubs without lifting his arms. The film then shows the same footage over again, at different speeds.',\n",
       "  'genres': ['Documentary', 'Short'],\n",
       "  'imdb': {'id': 241763, 'rating': 4.9, 'votes': 827},\n",
       "  'languages': ['English'],\n",
       "  'lastupdated': '2015-08-03 00:57:26.680000000',\n",
       "  'num_mflix_comments': 3,\n",
       "  'plot': 'An athlete swings Indian clubs.',\n",
       "  'rated': 'NOT RATED',\n",
       "  'runtime': 1,\n",
       "  'title': 'Newark Athlete',\n",
       "  'tomatoes': {'lastUpdated': datetime.datetime(2012, 9, 30, 0, 0)},\n",
       "  'type': 'movie',\n",
       "  'year': 1891}]"
      ]
     },
     "execution_count": 34,
     "metadata": {
      "tags": []
     },
     "output_type": "execute_result"
    }
   ],
   "source": [
    "list(\n",
    "    movies.find(\n",
    "        {\n",
    "          \"$and\":[\n",
    "          {\"type\":{\"$exists\":True}},\n",
    "           {\"$or\":[\n",
    "                 {\"year\":{\"$lt\":1930}},\n",
    "                 {\"rating\":\"PG\"}\n",
    "         ]},\n",
    "         {\"$or\":[\n",
    "         {\"imdb.votes\":{\"$gt\":100}},\n",
    "         {\"runtime\":{\"$gt\":120}}]}\n",
    "          ]},\n",
    "    ).sort(\"year\",1).limit(1)\n",
    ")\n",
    "\n",
    "# You need an explicit AND for the OR to be considered"
   ]
  },
  {
   "cell_type": "markdown",
   "metadata": {
    "id": "zYSfxoTbT4tc"
   },
   "source": [
    "## Question 18\n",
    "\n",
    "Return the count of all the documents in training['grades'] dataset where none of the \"scores.score\" values are less than 93.5"
   ]
  },
  {
   "cell_type": "code",
   "execution_count": null,
   "metadata": {
    "colab": {
     "base_uri": "https://localhost:8080/"
    },
    "id": "e5WGpeOoW2in",
    "outputId": "15616064-10c9-4357-b7f7-4474f6f926d2"
   },
   "outputs": [
    {
     "data": {
      "text/plain": [
       "{'_id': ObjectId('56d5f7eb604eb380b0d8d8e1'),\n",
       " 'class_id': 460.0,\n",
       " 'scores': [{'score': 33.63395086942907, 'type': 'exam'},\n",
       "  {'score': 46.7200034427161, 'type': 'quiz'},\n",
       "  {'score': 13.084793373731118, 'type': 'homework'},\n",
       "  {'score': 30.05232124487215, 'type': 'homework'}],\n",
       " 'student_id': 1.0}"
      ]
     },
     "execution_count": 38,
     "metadata": {
      "tags": []
     },
     "output_type": "execute_result"
    }
   ],
   "source": [
    "training[\"grades\"].find_one({})\n",
    "# What one document looks like"
   ]
  },
  {
   "cell_type": "code",
   "execution_count": null,
   "metadata": {
    "colab": {
     "base_uri": "https://localhost:8080/"
    },
    "id": "W7byIs-7V4Zd",
    "outputId": "98f6613c-290a-4c48-d180-b05c0d922bb7"
   },
   "outputs": [
    {
     "data": {
      "text/plain": [
       "2"
      ]
     },
     "execution_count": 37,
     "metadata": {
      "tags": []
     },
     "output_type": "execute_result"
    }
   ],
   "source": [
    "training[\"grades\"].count_documents({\n",
    "         \"scores.score\":{\"$not\":{\"$lt\":93.5}}\n",
    "     })\n",
    "\n",
    "# We can't use $gt 93.5 since $gt looks at only one value. If one score passes, it will return that document but there are a number of other score entries\n",
    "# in the same field. For your filter to apply to all values in the field, but "
   ]
  },
  {
   "cell_type": "markdown",
   "metadata": {
    "id": "CJrUwBg-T4td"
   },
   "source": [
    "\n",
    "\n",
    "# Other Operators\n",
    "\n",
    "Element, Evaluation, Geospatial, and Array operators\n",
    "\n",
    "~~~\n",
    "$text: Performs text search.\n",
    "{\n",
    "  $text:\n",
    "    {\n",
    "      $search: <string>,\n",
    "      $language: <string>,\n",
    "      $caseSensitive: <boolean>,\n",
    "      $diacriticSensitive: <boolean>\n",
    "    }\n",
    "}\n",
    "\n",
    "\n",
    "$elemMatch: Selects documents if element in the array field matches all the specified $elemMatch conditions.\n",
    "{ <field>: { $elemMatch: { <query1>, <query2>, ... } } }\n",
    "\n",
    "\n",
    "\n",
    "$size: Selects documents if the array field is a specified size.\n",
    "{ <field>: { $size: value } }\n",
    "\n",
    "\n",
    "\n",
    "$all: Matches arrays that contain all elements specified in the query.\n",
    "{ <field>: { $all: [ <value1> , <value2> ... ] } }\n",
    "\n",
    "~~~\n",
    "text - https://docs.mongodb.com/manual/reference/operator/query/text <br>\n",
    "elemMatch - https://docs.mongodb.com/manual/reference/operator/query/elemMatch/ <br>\n",
    "size - https://docs.mongodb.com/manual/reference/operator/query/size/ <br>\n",
    "all - https://docs.mongodb.com/manual/reference/operator/query/all/"
   ]
  },
  {
   "cell_type": "markdown",
   "metadata": {
    "id": "O6-IH6QYT4td"
   },
   "source": [
    "## Question 19 - $text\n",
    "\n",
    "Return the documents sorted by beds descending that have the word \"park\" or the phrase \"los angeles\" in the description field (index has already been created on \"description\") in the Airbnb dataset. Only return the description, name and limit to 1 result sorted by \"beds\" descending."
   ]
  },
  {
   "cell_type": "code",
   "execution_count": null,
   "metadata": {
    "id": "4gfT-htDXK2F"
   },
   "outputs": [],
   "source": []
  },
  {
   "cell_type": "markdown",
   "metadata": {
    "id": "sDSfQfIZT4te"
   },
   "source": [
    "## Question 20 - $elemMatch\n",
    "\n",
    "In the geospatial dataset, sorted by \"latdec\" descending, find a document where the \"coordinates\" the longitude value is greater than -90 but less than or equal -88. Limit to 1 result. "
   ]
  },
  {
   "cell_type": "code",
   "execution_count": null,
   "metadata": {
    "colab": {
     "base_uri": "https://localhost:8080/"
    },
    "id": "2iv-DPwi4oin",
    "outputId": "783f2def-2fa4-4b35-adbc-5803139cab50"
   },
   "outputs": [
    {
     "data": {
      "text/plain": [
       "[{'_id': ObjectId('578f6fa3df35c7fbdbaee7ef'),\n",
       "  'chart': 'US,US,graph,chart 14976',\n",
       "  'coordinates': [-88.49157, 48.200457],\n",
       "  'depth': '',\n",
       "  'feature_type': 'Wrecks - Submerged, dangerous',\n",
       "  'gp_quality': '',\n",
       "  'history': '',\n",
       "  'latdec': 48.200457,\n",
       "  'londec': -88.49157,\n",
       "  'quasou': 'depth unknown',\n",
       "  'recrd': '',\n",
       "  'sounding_type': '',\n",
       "  'vesslterms': '',\n",
       "  'watlev': 'always under water/submerged'}]"
      ]
     },
     "execution_count": 5,
     "metadata": {
      "tags": []
     },
     "output_type": "execute_result"
    }
   ],
   "source": [
    "list(\n",
    "    geospatial\n",
    "     .find({\n",
    "         \"coordinates\":{\n",
    "             \"$elemMatch\":{\n",
    "                 \"$lte\":-88,\"$gt\":-90\n",
    "             }\n",
    "         }\n",
    "    }).sort(\"latdec\",-1).limit(1)\n",
    ")"
   ]
  },
  {
   "cell_type": "code",
   "execution_count": null,
   "metadata": {
    "colab": {
     "base_uri": "https://localhost:8080/"
    },
    "id": "LBlVabrQ6YjR",
    "outputId": "d29eec7c-3d64-4efe-be13-b022bd2db033"
   },
   "outputs": [
    {
     "data": {
      "text/plain": [
       "[{'_id': ObjectId('578f6fa3df35c7fbdbaed9d7'),\n",
       "  'chart': 'US,US,reprt,17thCGD,LNM\\xa045/09',\n",
       "  'coordinates': [-148.516786, 70.3858306],\n",
       "  'depth': '',\n",
       "  'feature_type': 'Wrecks - Visible',\n",
       "  'gp_quality': '',\n",
       "  'history': '',\n",
       "  'latdec': 70.3858306,\n",
       "  'londec': -148.516786,\n",
       "  'quasou': '',\n",
       "  'recrd': '',\n",
       "  'sounding_type': '',\n",
       "  'vesslterms': 'West Dock Barge',\n",
       "  'watlev': 'always dry'}]"
      ]
     },
     "execution_count": 7,
     "metadata": {
      "tags": []
     },
     "output_type": "execute_result"
    }
   ],
   "source": [
    "list(\n",
    "    geospatial\n",
    "     .find({\n",
    "         \"coordinates\":{\"$lte\":-88,\"$gt\":-90} #this is like a BETWEEN, not the same as above\n",
    "    }).sort(\"latdec\",-1).limit(1)\n",
    ")"
   ]
  },
  {
   "cell_type": "code",
   "execution_count": null,
   "metadata": {
    "id": "QSN_KGwL9awJ"
   },
   "outputs": [],
   "source": [
    "# If i dont want any values in my coord array < than -90\n",
    "list(\n",
    "    geospatial\n",
    "     .find({\n",
    "         \"coordinates\":{\n",
    "             \"$not\":{\"$elemMatch\"......}\n",
    "             }\n",
    "         }\n",
    "    }).sort(\"latdec\",-1).limit(1)\n",
    ")"
   ]
  },
  {
   "cell_type": "markdown",
   "metadata": {
    "id": "Gw2u_7O0T4tf"
   },
   "source": [
    "## Question 21 - $elemMatch\n",
    "\n",
    "In the training[\"companies\"] dataset, return the count of documents that have at least one embedded document in the \"relationships\" field where the \"person.first_name\" value is \"Ben\" and the \"is_past\" value is False. Compare this count with the count of documents where the \"relationships\" field has an \"is_past\" value of false and a \"person.first_name\" value of \"Ben\"."
   ]
  },
  {
   "cell_type": "code",
   "execution_count": null,
   "metadata": {
    "colab": {
     "base_uri": "https://localhost:8080/"
    },
    "id": "MQhXLr0Z-EWF",
    "outputId": "d74a8240-c648-4c64-e7c5-16e16ec78e4f"
   },
   "outputs": [
    {
     "name": "stdout",
     "output_type": "stream",
     "text": [
      "elemMatch:93,noMatch:167\n"
     ]
    }
   ],
   "source": [
    "elemMatch=training.companies.count_documents({\n",
    "    \"relationships\":{\n",
    "        \"$elemMatch\":{\n",
    "            \"is_past\":False,\n",
    "            \"person.first_name\":\"Ben\"\n",
    "        }\n",
    "    }\n",
    "})\n",
    "noMatch=training.companies.count_documents({\n",
    "    \"relationships.is_past\":False,\n",
    "    \"relationships.person.first_name\":\"Ben\"\n",
    "})\n",
    "\n",
    "print(f'elemMatch:{elemMatch},noMatch:{noMatch}')"
   ]
  },
  {
   "cell_type": "markdown",
   "metadata": {
    "id": "tAgqvsewT4tf"
   },
   "source": [
    "## Question 22 - $elemMatch\n",
    "\n",
    "In the grades collection, find a document where one element matches the type of \"scores.type\" \n",
    "of \"exam\" and \"scores.score\" is greater than 97."
   ]
  },
  {
   "cell_type": "code",
   "execution_count": null,
   "metadata": {
    "colab": {
     "base_uri": "https://localhost:8080/"
    },
    "id": "IBhvz-9r_Wv_",
    "outputId": "20b515c3-9b6c-476c-cf35-4249370c1707"
   },
   "outputs": [
    {
     "data": {
      "text/plain": [
       "[{'_id': ObjectId('56d5f7f1604eb380b0da5f39'),\n",
       "  'class_id': 379.0,\n",
       "  'scores': [{'score': 98.20044944087331, 'type': 'exam'},\n",
       "   {'score': 28.349052884591032, 'type': 'quiz'},\n",
       "   {'score': 69.8395825261821, 'type': 'homework'},\n",
       "   {'score': 21.288484910376116, 'type': 'homework'}],\n",
       "  'student_id': 9994.0}]"
      ]
     },
     "execution_count": 12,
     "metadata": {
      "tags": []
     },
     "output_type": "execute_result"
    }
   ],
   "source": [
    "list(\n",
    "    grades.find({\n",
    "      \"scores\":{\n",
    "          \"$elemMatch\":{\n",
    "              \"type\":\"exam\",\n",
    "              \"score\":{\"$gt\":97}\n",
    "          }\n",
    "      }  \n",
    "    }).sort(\"student_id\",-1)\n",
    "    .limit(1)\n",
    ")\n",
    "\n",
    "# In the o/p, we see that within a single element in scores field, a single entry has both exam and >97\n",
    "# This is the right answer to the question"
   ]
  },
  {
   "cell_type": "code",
   "execution_count": null,
   "metadata": {
    "colab": {
     "base_uri": "https://localhost:8080/"
    },
    "id": "sH104DKe_3js",
    "outputId": "b6628900-b42c-48d3-80d1-5fb48fd4e580"
   },
   "outputs": [
    {
     "data": {
      "text/plain": [
       "[{'_id': ObjectId('56d5f7f1604eb380b0da5f4f'),\n",
       "  'class_id': 418.0,\n",
       "  'scores': [{'score': 22.56383221610897, 'type': 'exam'},\n",
       "   {'score': 52.57100113131188, 'type': 'quiz'},\n",
       "   {'score': 10.923540251153852, 'type': 'homework'},\n",
       "   {'score': 98.40768422639076, 'type': 'homework'}],\n",
       "  'student_id': 9996.0}]"
      ]
     },
     "execution_count": 13,
     "metadata": {
      "tags": []
     },
     "output_type": "execute_result"
    }
   ],
   "source": [
    "list(\n",
    "    grades.find({\n",
    "      \"scores.type\":\"exam\",\n",
    "      \"scores.score\":{\"$gt\":97}\n",
    "    }).sort(\"student_id\",-1)\n",
    "    .limit(1)\n",
    ")\n",
    "# This o/p returns a document where any element in the entire array meets the two conditions.\n",
    "# One element within the array meets the 97 criteria and another element in the array/subdocuments meets the exam criteria\n",
    "# This passes the document for the condition"
   ]
  },
  {
   "cell_type": "markdown",
   "metadata": {
    "id": "-Y2AcHAcT4tg"
   },
   "source": [
    "## Question 23 - $size\n",
    "\n",
    "In the Airbnb dataset, return the count of documents that have an \"amenities\" field size of 25.\n"
   ]
  },
  {
   "cell_type": "code",
   "execution_count": null,
   "metadata": {
    "colab": {
     "base_uri": "https://localhost:8080/"
    },
    "id": "90GdoVttA4M-",
    "outputId": "48eacc50-76ba-466c-a0a2-b0219e6df3d9"
   },
   "outputs": [
    {
     "data": {
      "text/plain": [
       "173"
      ]
     },
     "execution_count": 14,
     "metadata": {
      "tags": []
     },
     "output_type": "execute_result"
    }
   ],
   "source": [
    "# Size evaluates the size of the array. Can't aggregate or filter by size here.\n",
    "airbnb.count_documents({\"amenities\":{\"$size\":25}})"
   ]
  },
  {
   "cell_type": "markdown",
   "metadata": {
    "id": "vdNB2B6ZT4th"
   },
   "source": [
    "## Question 24 - $all\n",
    "\n",
    "Return the count of documents that have all the following values in the \"amenities\" field: 'TV', 'Kitchen', 'Wifi', 'Internet','Cable TV', 'Coffee maker', 'Cooking basics','Family/kid friendly', 'Gym', and 'Heating'. \n",
    "\\$in \\$nin"
   ]
  },
  {
   "cell_type": "code",
   "execution_count": null,
   "metadata": {
    "colab": {
     "base_uri": "https://localhost:8080/"
    },
    "id": "TPstK6neCKgF",
    "outputId": "906b805b-7417-42ae-c5cf-f7df21f091ee"
   },
   "outputs": [
    {
     "data": {
      "text/plain": [
       "8"
      ]
     },
     "execution_count": 15,
     "metadata": {
      "tags": []
     },
     "output_type": "execute_result"
    }
   ],
   "source": [
    "# You can pass in other operators with the $all\n",
    "airbnb.count_documents({\n",
    "    \"amenities\":{\n",
    "        \"$all\":['TV', 'Kitchen', 'Wifi', 'Internet','Cable TV', 'Coffee maker', 'Cooking basics','Family/kid friendly', 'Gym', 'Heating']\n",
    "    }\n",
    "})\n",
    "# 8 documents contain all these values. $all doesn't care about the order of elements"
   ]
  },
  {
   "cell_type": "code",
   "execution_count": null,
   "metadata": {
    "colab": {
     "base_uri": "https://localhost:8080/"
    },
    "id": "L8V8MhbbCuSt",
    "outputId": "d239fbbc-9e88-43b6-fc42-b5f23935a336"
   },
   "outputs": [
    {
     "data": {
      "text/plain": [
       "0"
      ]
     },
     "execution_count": 17,
     "metadata": {
      "tags": []
     },
     "output_type": "execute_result"
    }
   ],
   "source": [
    "airbnb.count_documents({\n",
    "    \"amenities\":['TV', 'Kitchen', 'Wifi', 'Internet','Cable TV', 'Coffee maker', 'Cooking basics','Family/kid friendly', 'Gym', 'Heating']\n",
    "    }\n",
    ")\n",
    "\n",
    "# This tells it to search for the same exact order you pass in the array. Useful if the exact order is important but usually prone to errors."
   ]
  },
  {
   "cell_type": "markdown",
   "metadata": {
    "id": "J6pRxlNrT4th"
   },
   "source": [
    "## Question 25 - $all with elemMatch\n",
    "\n",
    "Return a single document sorted by class_id descending where there's one embeddded document that has \"scores.type\" of exam and \"scores.score\" of greater than 97, \"scores.type\" of quiz and \"scores.score\" of greater than 96, and\n",
    "\"scores.type\" of homework and \"scores.score\" of greater than 95."
   ]
  },
  {
   "cell_type": "code",
   "execution_count": null,
   "metadata": {
    "colab": {
     "base_uri": "https://localhost:8080/"
    },
    "id": "hM-AeRBST4ti",
    "outputId": "f0ef4d19-10db-4269-ddc4-cf8d325a9969"
   },
   "outputs": [
    {
     "data": {
      "text/plain": [
       "[{'_id': ObjectId('56d5f7f1604eb380b0da4b05'),\n",
       "  'class_id': 439.0,\n",
       "  'scores': [{'score': 97.70221871186124, 'type': 'exam'},\n",
       "   {'score': 98.38639086583655, 'type': 'quiz'},\n",
       "   {'score': 43.71678839949483, 'type': 'homework'},\n",
       "   {'score': 97.78339211813662, 'type': 'homework'}],\n",
       "  'student_id': 9477.0}]"
      ]
     },
     "execution_count": 22,
     "metadata": {
      "tags": []
     },
     "output_type": "execute_result"
    }
   ],
   "source": [
    "list(\n",
    "    grades.find({\n",
    "        \"scores\":{\n",
    "            \"$all\":[\n",
    "                    {\"$elemMatch\":{\n",
    "                        \"type\":\"exam\",\"score\":{\"$gt\":97}\n",
    "                    }},\n",
    "                    {\"$elemMatch\":{\n",
    "                        \"type\":\"quiz\",\"score\":{\"$gt\":96}\n",
    "                        }},\n",
    "                    {\"$elemMatch\":{\n",
    "                        \"type\":\"homework\",\"score\":{\"$gt\":95}\n",
    "                        }}\n",
    "            ]\n",
    "        }\n",
    "    }).sort(\"class_id\",-1)\n",
    "    .limit(1)\n",
    ")\n",
    "\n",
    "# All ensures there's 1 instance of everything in the output\n",
    "# You still get a type: homework with score:43 but the next element in the array meets the condition."
   ]
  },
  {
   "cell_type": "code",
   "execution_count": null,
   "metadata": {
    "colab": {
     "base_uri": "https://localhost:8080/"
    },
    "id": "1TcGVcHiT4ti",
    "outputId": "af0f8ad3-0f59-4afc-b4d7-8b8eab3eb073"
   },
   "outputs": [
    {
     "data": {
      "text/plain": [
       "[{'_id': ObjectId('56d5f7eb604eb380b0d8da7e'),\n",
       "  'class_id': 500.0,\n",
       "  'scores': [{'score': 29.438528115173668, 'type': 'exam'},\n",
       "   {'score': 93.45862647470958, 'type': 'quiz'},\n",
       "   {'score': 95.83097600441303, 'type': 'homework'},\n",
       "   {'score': 96.56935104413706, 'type': 'homework'}],\n",
       "  'student_id': 43.0}]"
      ]
     },
     "execution_count": 25,
     "metadata": {
      "tags": []
     },
     "output_type": "execute_result"
    }
   ],
   "source": [
    "list(\n",
    "    grades.find({\n",
    "        \"scores\":{\n",
    "            \n",
    "                    \"$elemMatch\":{\n",
    "                        \"type\":\"exam\",\"score\":{\"$gt\":97}},\n",
    "                    \"$elemMatch\":{\n",
    "                        \"type\":\"quiz\",\"score\":{\"$gt\":96}\n",
    "                        },\n",
    "                    \"$elemMatch\":{\n",
    "                        \"type\":\"homework\",\"score\":{\"$gt\":95}\n",
    "                        }\n",
    "            \n",
    "        \n",
    "    }\n",
    "    }).sort(\"class_id\",-1)\n",
    "    .limit(1)\n",
    ")\n",
    "\n",
    "# Incorrrect!"
   ]
  },
  {
   "cell_type": "code",
   "execution_count": null,
   "metadata": {
    "id": "jJKaw8nxT4tj"
   },
   "outputs": [],
   "source": []
  },
  {
   "cell_type": "code",
   "execution_count": null,
   "metadata": {
    "id": "n4GKFsSdT4tj"
   },
   "outputs": [],
   "source": []
  },
  {
   "cell_type": "code",
   "execution_count": null,
   "metadata": {
    "id": "PGxKqdrIT4tj"
   },
   "outputs": [],
   "source": []
  },
  {
   "cell_type": "code",
   "execution_count": null,
   "metadata": {
    "id": "wa3jKkaTT4tj"
   },
   "outputs": [],
   "source": []
  },
  {
   "cell_type": "code",
   "execution_count": null,
   "metadata": {
    "id": "BDozTKiqT4tj"
   },
   "outputs": [],
   "source": []
  }
 ],
 "metadata": {
  "colab": {
   "collapsed_sections": [],
   "name": "NoSQL_w2.ipynb",
   "provenance": []
  },
  "kernelspec": {
   "display_name": "Python 3",
   "language": "python",
   "name": "python3"
  },
  "language_info": {
   "codemirror_mode": {
    "name": "ipython",
    "version": 3
   },
   "file_extension": ".py",
   "mimetype": "text/x-python",
   "name": "python",
   "nbconvert_exporter": "python",
   "pygments_lexer": "ipython3",
   "version": "3.8.3"
  },
  "toc": {
   "base_numbering": 1,
   "nav_menu": {},
   "number_sections": true,
   "sideBar": true,
   "skip_h1_title": false,
   "title_cell": "Table of Contents",
   "title_sidebar": "Contents",
   "toc_cell": false,
   "toc_position": {},
   "toc_section_display": true,
   "toc_window_display": false
  },
  "varInspector": {
   "cols": {
    "lenName": 16,
    "lenType": 16,
    "lenVar": 40
   },
   "kernels_config": {
    "python": {
     "delete_cmd_postfix": "",
     "delete_cmd_prefix": "del ",
     "library": "var_list.py",
     "varRefreshCmd": "print(var_dic_list())"
    },
    "r": {
     "delete_cmd_postfix": ") ",
     "delete_cmd_prefix": "rm(",
     "library": "var_list.r",
     "varRefreshCmd": "cat(var_dic_list()) "
    }
   },
   "types_to_exclude": [
    "module",
    "function",
    "builtin_function_or_method",
    "instance",
    "_Feature"
   ],
   "window_display": false
  }
 },
 "nbformat": 4,
 "nbformat_minor": 1
}
